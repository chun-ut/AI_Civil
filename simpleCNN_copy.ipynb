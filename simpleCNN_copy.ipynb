{
  "nbformat": 4,
  "nbformat_minor": 0,
  "metadata": {
    "colab": {
      "name": "simpleCNN_copy",
      "provenance": [],
      "collapsed_sections": [],
      "toc_visible": true,
      "mount_file_id": "1JK_XyAm4lPPvu3OuAJNQRkHyBz6jQhpS",
      "authorship_tag": "ABX9TyMeleRbIZh0gPK0wH+8CYMn",
      "include_colab_link": true
    },
    "kernelspec": {
      "name": "python3",
      "display_name": "Python 3"
    },
    "accelerator": "GPU"
  },
  "cells": [
    {
      "cell_type": "markdown",
      "metadata": {
        "id": "view-in-github",
        "colab_type": "text"
      },
      "source": [
        "<a href=\"https://colab.research.google.com/github/chun-ut/AI_Civil/blob/master/simpleCNN_copy.ipynb\" target=\"_parent\"><img src=\"https://colab.research.google.com/assets/colab-badge.svg\" alt=\"Open In Colab\"/></a>"
      ]
    },
    {
      "cell_type": "markdown",
      "metadata": {
        "id": "Ma3Z-naS-PVD",
        "colab_type": "text"
      },
      "source": [
        "# CNNによる分類"
      ]
    },
    {
      "cell_type": "markdown",
      "metadata": {
        "id": "hZNwf33d-iCT",
        "colab_type": "text"
      },
      "source": [
        "## 下準備\n",
        "1.   メニューから，ランタイムをpython3, GPUにセットする\n",
        "2.   dog-vs-cats_small.zipをアップロードする（ドラッグアンドドロップ）【待ち時間かかります．何か代替の方法があればいいんだけど．】"
      ]
    },
    {
      "cell_type": "markdown",
      "metadata": {
        "id": "ehRUDU42AvQU",
        "colab_type": "text"
      },
      "source": [
        "## アップロードしたzipファイルの解凍"
      ]
    },
    {
      "cell_type": "code",
      "metadata": {
        "id": "JhuowJBqseY9",
        "colab_type": "code",
        "colab": {}
      },
      "source": [
        "!unzip dog-vs-cats_small.zip"
      ],
      "execution_count": 0,
      "outputs": []
    },
    {
      "cell_type": "markdown",
      "metadata": {
        "id": "0xCJkKzEA9W4",
        "colab_type": "text"
      },
      "source": [
        "## パッケージのインストール\n",
        "dltというのはGoogle Colaboratory限定で，Deep learningに有用なパッケージのpipによるインストールです．\n",
        "\n",
        "また，本コードでkerasなどが使えるようにするように，パッケージをインストールします．\n",
        "\n",
        "色々なWarningは以下出てきますが，Warningであれば大丈夫です．（Errorは大丈夫ではない）\n"
      ]
    },
    {
      "cell_type": "code",
      "metadata": {
        "id": "5DVUFnMu4Wxw",
        "colab_type": "code",
        "colab": {}
      },
      "source": [
        "pip install dlt"
      ],
      "execution_count": 0,
      "outputs": []
    },
    {
      "cell_type": "code",
      "metadata": {
        "id": "85LSI0Wz4ciq",
        "colab_type": "code",
        "outputId": "e78cb774-7acc-4c90-bd57-d110c4fc27a4",
        "colab": {
          "base_uri": "https://localhost:8080/",
          "height": 83
        }
      },
      "source": [
        "import dlt\n",
        "import os\n",
        "from keras import layers\n",
        "from keras import models\n",
        "from keras import optimizers\n",
        "from keras.applications.resnet50 import ResNet50\n",
        "from keras.models import Sequential, Model\n",
        "from keras.layers import Input, Flatten, Dense\n",
        "from keras.applications.resnet50 import ResNet50\n",
        "from keras.preprocessing.image import ImageDataGenerator\n",
        "import matplotlib.pyplot as plt\n",
        "%matplotlib inline\n",
        "import numpy as np\n",
        "from PIL import Image"
      ],
      "execution_count": 0,
      "outputs": [
        {
          "output_type": "stream",
          "text": [
            "Using TensorFlow backend.\n"
          ],
          "name": "stderr"
        },
        {
          "output_type": "display_data",
          "data": {
            "text/html": [
              "<p style=\"color: red;\">\n",
              "The default version of TensorFlow in Colab will soon switch to TensorFlow 2.x.<br>\n",
              "We recommend you <a href=\"https://www.tensorflow.org/guide/migrate\" target=\"_blank\">upgrade</a> now \n",
              "or ensure your notebook will continue to use TensorFlow 1.x via the <code>%tensorflow_version 1.x</code> magic:\n",
              "<a href=\"https://colab.research.google.com/notebooks/tensorflow_version.ipynb\" target=\"_blank\">more info</a>.</p>\n"
            ],
            "text/plain": [
              "<IPython.core.display.HTML object>"
            ]
          },
          "metadata": {
            "tags": []
          }
        }
      ]
    },
    {
      "cell_type": "markdown",
      "metadata": {
        "id": "db5iKeIUBbr-",
        "colab_type": "text"
      },
      "source": [
        "## Dataが入っているフォルダの設定\n",
        "左のウィンドウで，dog-vs-cats_smallフォルダを確認して構造を理解するのは有益です．"
      ]
    },
    {
      "cell_type": "code",
      "metadata": {
        "id": "ngqfFcas3691",
        "colab_type": "code",
        "outputId": "25493508-d32c-4432-bfc9-8b3061d18e91",
        "colab": {
          "base_uri": "https://localhost:8080/",
          "height": 125
        }
      },
      "source": [
        "train_cats_dir = 'dog-vs-cats_small/train/cats'\n",
        "train_dogs_dir = 'dog-vs-cats_small/train/dogs'\n",
        "validation_cats_dir = 'dog-vs-cats_small/validation/cats'\n",
        "validation_dogs_dir = 'dog-vs-cats_small/validation/dogs'\n",
        "test_cats_dir = 'dog-vs-cats_small/test/cats'\n",
        "test_dogs_dir = 'dog-vs-cats_small/test/dogs'\n",
        "\n",
        "train_dir = 'dog-vs-cats_small/train/'\n",
        "validation_dir = 'dog-vs-cats_small/validation/'\n",
        "test_dir = 'dog-vs-cats_small/test/'\n",
        "\n",
        "print(\"train cat:{}\".format(len(os.listdir(train_cats_dir))))\n",
        "print(\"train dog:{}\".format(len(os.listdir(train_dogs_dir))))\n",
        "\n",
        "print(\"validation cat:{}\".format(len(os.listdir(validation_cats_dir))))\n",
        "print(\"validation dog:{}\".format(len(os.listdir(validation_dogs_dir))))\n",
        "\n",
        "print(\"test cat:{}\".format(len(os.listdir(test_cats_dir))))\n",
        "print(\"test dog:{}\".format(len(os.listdir(test_dogs_dir))))\n",
        "\n",
        "nb_classes = 2#クラスの数．ここでは，犬クラスと猫クラスなので２つなので２．"
      ],
      "execution_count": 0,
      "outputs": [
        {
          "output_type": "stream",
          "text": [
            "train cat:1001\n",
            "train dog:1001\n",
            "validation cat:500\n",
            "validation dog:500\n",
            "test cat:500\n",
            "test dog:500\n"
          ],
          "name": "stdout"
        }
      ]
    },
    {
      "cell_type": "markdown",
      "metadata": {
        "id": "5yM1CKQQCCyj",
        "colab_type": "text"
      },
      "source": [
        "## Deep learningのCNNの層構造の定義\n",
        "Sequential, Conv2D, MaxPooling2D, Flatten, Denseについては参考資料に記載．\n",
        "\n",
        "また，compileも行う．categorical_crossentropyやRMSPropについても参考資料に記載．\n"
      ]
    },
    {
      "cell_type": "code",
      "metadata": {
        "id": "5OC-4LG64SsD",
        "colab_type": "code",
        "outputId": "da3db4a8-6430-4291-e6b0-86a4119c7616",
        "colab": {
          "base_uri": "https://localhost:8080/",
          "height": 721
        }
      },
      "source": [
        "model = models.Sequential()\n",
        "model.add(layers.Conv2D(32,(3,3),activation=\"relu\",input_shape=(150,150,3)))\n",
        "model.add(layers.MaxPooling2D((2,2)))\n",
        "\n",
        "model.add(layers.Conv2D(64,(3,3),activation=\"relu\"))\n",
        "model.add(layers.MaxPooling2D((2,2)))\n",
        "\n",
        "model.add(layers.Conv2D(128,(3,3),activation=\"relu\"))\n",
        "model.add(layers.MaxPooling2D((2,2)))\n",
        "\n",
        "model.add(layers.Conv2D(128,(3,3),activation=\"relu\"))\n",
        "model.add(layers.MaxPooling2D((2,2)))\n",
        "\n",
        "model.add(layers.Flatten())\n",
        "\n",
        "model.add(layers.Dense(512,activation=\"relu\"))\n",
        "model.add(layers.Dense(2,activation=\"sigmoid\"))\n",
        "model.summary()"
      ],
      "execution_count": 0,
      "outputs": [
        {
          "output_type": "stream",
          "text": [
            "WARNING:tensorflow:From /usr/local/lib/python3.6/dist-packages/keras/backend/tensorflow_backend.py:66: The name tf.get_default_graph is deprecated. Please use tf.compat.v1.get_default_graph instead.\n",
            "\n",
            "WARNING:tensorflow:From /usr/local/lib/python3.6/dist-packages/keras/backend/tensorflow_backend.py:541: The name tf.placeholder is deprecated. Please use tf.compat.v1.placeholder instead.\n",
            "\n",
            "WARNING:tensorflow:From /usr/local/lib/python3.6/dist-packages/keras/backend/tensorflow_backend.py:4432: The name tf.random_uniform is deprecated. Please use tf.random.uniform instead.\n",
            "\n",
            "WARNING:tensorflow:From /usr/local/lib/python3.6/dist-packages/keras/backend/tensorflow_backend.py:4267: The name tf.nn.max_pool is deprecated. Please use tf.nn.max_pool2d instead.\n",
            "\n",
            "Model: \"sequential_1\"\n",
            "_________________________________________________________________\n",
            "Layer (type)                 Output Shape              Param #   \n",
            "=================================================================\n",
            "conv2d_1 (Conv2D)            (None, 148, 148, 32)      896       \n",
            "_________________________________________________________________\n",
            "max_pooling2d_1 (MaxPooling2 (None, 74, 74, 32)        0         \n",
            "_________________________________________________________________\n",
            "conv2d_2 (Conv2D)            (None, 72, 72, 64)        18496     \n",
            "_________________________________________________________________\n",
            "max_pooling2d_2 (MaxPooling2 (None, 36, 36, 64)        0         \n",
            "_________________________________________________________________\n",
            "conv2d_3 (Conv2D)            (None, 34, 34, 128)       73856     \n",
            "_________________________________________________________________\n",
            "max_pooling2d_3 (MaxPooling2 (None, 17, 17, 128)       0         \n",
            "_________________________________________________________________\n",
            "conv2d_4 (Conv2D)            (None, 15, 15, 128)       147584    \n",
            "_________________________________________________________________\n",
            "max_pooling2d_4 (MaxPooling2 (None, 7, 7, 128)         0         \n",
            "_________________________________________________________________\n",
            "flatten_1 (Flatten)          (None, 6272)              0         \n",
            "_________________________________________________________________\n",
            "dense_1 (Dense)              (None, 512)               3211776   \n",
            "_________________________________________________________________\n",
            "dense_2 (Dense)              (None, 2)                 1026      \n",
            "=================================================================\n",
            "Total params: 3,453,634\n",
            "Trainable params: 3,453,634\n",
            "Non-trainable params: 0\n",
            "_________________________________________________________________\n"
          ],
          "name": "stdout"
        }
      ]
    },
    {
      "cell_type": "code",
      "metadata": {
        "id": "Oop3YA9L5RDs",
        "colab_type": "code",
        "outputId": "addd9a2a-c8cd-467d-c069-76665ef14c91",
        "colab": {
          "base_uri": "https://localhost:8080/",
          "height": 109
        }
      },
      "source": [
        "model.compile(loss=\"categorical_crossentropy\",#\"binary_crossentropy\",\n",
        "             optimizer=optimizers.RMSprop(lr=1e-4),\n",
        "             metrics=[\"acc\"])"
      ],
      "execution_count": 0,
      "outputs": [
        {
          "output_type": "stream",
          "text": [
            "WARNING:tensorflow:From /usr/local/lib/python3.6/dist-packages/keras/optimizers.py:793: The name tf.train.Optimizer is deprecated. Please use tf.compat.v1.train.Optimizer instead.\n",
            "\n",
            "WARNING:tensorflow:From /usr/local/lib/python3.6/dist-packages/keras/backend/tensorflow_backend.py:3576: The name tf.log is deprecated. Please use tf.math.log instead.\n",
            "\n"
          ],
          "name": "stdout"
        }
      ]
    },
    {
      "cell_type": "markdown",
      "metadata": {
        "id": "ZIU6sc61Cnzf",
        "colab_type": "text"
      },
      "source": [
        "## Datasetをどのように扱うか\n",
        "Data augmentation（参考資料）の詳細など．\n",
        "\n",
        "train, validation, testを分ける意味について．\n"
      ]
    },
    {
      "cell_type": "code",
      "metadata": {
        "id": "GGQ2q47z6Alk",
        "colab_type": "code",
        "outputId": "ed72515d-fd2c-41b7-c5b7-92fc7e42b60f",
        "colab": {
          "base_uri": "https://localhost:8080/",
          "height": 53
        }
      },
      "source": [
        "#train_datagen = ImageDataGenerator(rescale=1./255)\n",
        "#validation_datagen = ImageDataGenerator(rescale=1./255)\n",
        "\n",
        "train_datagen = ImageDataGenerator(rescale=1./255,\n",
        "                                    rotation_range=40,\n",
        "                                    width_shift_range=0.2,\n",
        "                                    height_shift_range=0.2,\n",
        "                                    shear_range=0.2,\n",
        "                                    zoom_range=0.2,\n",
        "                                    horizontal_flip=True,\n",
        "                                    fill_mode=\"nearest\")\n",
        "\n",
        "validation_datagen = ImageDataGenerator(rescale=1./255)\n",
        "\n",
        "train_generator = train_datagen.flow_from_directory(\n",
        "    train_dir,\n",
        "    target_size=(150,150),\n",
        "    batch_size=32,\n",
        "    class_mode=\"categorical\"#\"binary\"\n",
        ")\n",
        "\n",
        "validation_generator = validation_datagen.flow_from_directory(\n",
        "    validation_dir,\n",
        "    target_size=(150,150),\n",
        "    batch_size=32,\n",
        "    class_mode=\"categorical\"#\"binary\"\n",
        ")"
      ],
      "execution_count": 0,
      "outputs": [
        {
          "output_type": "stream",
          "text": [
            "Found 2002 images belonging to 2 classes.\n",
            "Found 1000 images belonging to 2 classes.\n"
          ],
          "name": "stdout"
        }
      ]
    },
    {
      "cell_type": "markdown",
      "metadata": {
        "id": "dStMM9TAD4-6",
        "colab_type": "text"
      },
      "source": [
        "## CNNの学習"
      ]
    },
    {
      "cell_type": "code",
      "metadata": {
        "id": "kvZcqlj76Xfy",
        "colab_type": "code",
        "outputId": "79d6c00f-a805-40ad-e4b6-9fbfc0fd21fd",
        "colab": {
          "base_uri": "https://localhost:8080/",
          "height": 739
        }
      },
      "source": [
        "history = model.fit_generator(train_generator,\n",
        "                             steps_per_epoch=100,\n",
        "                             epochs=10,\n",
        "                             validation_data=validation_generator,\n",
        "                             validation_steps=50)"
      ],
      "execution_count": 0,
      "outputs": [
        {
          "output_type": "stream",
          "text": [
            "WARNING:tensorflow:From /tensorflow-1.15.0/python3.6/tensorflow_core/python/ops/math_grad.py:1424: where (from tensorflow.python.ops.array_ops) is deprecated and will be removed in a future version.\n",
            "Instructions for updating:\n",
            "Use tf.where in 2.0, which has the same broadcast rule as np.where\n",
            "WARNING:tensorflow:From /usr/local/lib/python3.6/dist-packages/keras/backend/tensorflow_backend.py:1033: The name tf.assign_add is deprecated. Please use tf.compat.v1.assign_add instead.\n",
            "\n",
            "WARNING:tensorflow:From /usr/local/lib/python3.6/dist-packages/keras/backend/tensorflow_backend.py:1020: The name tf.assign is deprecated. Please use tf.compat.v1.assign instead.\n",
            "\n",
            "WARNING:tensorflow:From /usr/local/lib/python3.6/dist-packages/keras/backend/tensorflow_backend.py:3005: The name tf.Session is deprecated. Please use tf.compat.v1.Session instead.\n",
            "\n",
            "Epoch 1/10\n",
            "WARNING:tensorflow:From /usr/local/lib/python3.6/dist-packages/keras/backend/tensorflow_backend.py:190: The name tf.get_default_session is deprecated. Please use tf.compat.v1.get_default_session instead.\n",
            "\n",
            "WARNING:tensorflow:From /usr/local/lib/python3.6/dist-packages/keras/backend/tensorflow_backend.py:197: The name tf.ConfigProto is deprecated. Please use tf.compat.v1.ConfigProto instead.\n",
            "\n",
            "WARNING:tensorflow:From /usr/local/lib/python3.6/dist-packages/keras/backend/tensorflow_backend.py:207: The name tf.global_variables is deprecated. Please use tf.compat.v1.global_variables instead.\n",
            "\n",
            "WARNING:tensorflow:From /usr/local/lib/python3.6/dist-packages/keras/backend/tensorflow_backend.py:216: The name tf.is_variable_initialized is deprecated. Please use tf.compat.v1.is_variable_initialized instead.\n",
            "\n",
            "WARNING:tensorflow:From /usr/local/lib/python3.6/dist-packages/keras/backend/tensorflow_backend.py:223: The name tf.variables_initializer is deprecated. Please use tf.compat.v1.variables_initializer instead.\n",
            "\n",
            "100/100 [==============================] - 37s 369ms/step - loss: 0.6911 - acc: 0.5138 - val_loss: 0.6757 - val_acc: 0.6117\n",
            "Epoch 2/10\n",
            "100/100 [==============================] - 24s 239ms/step - loss: 0.6791 - acc: 0.5670 - val_loss: 0.6672 - val_acc: 0.5960\n",
            "Epoch 3/10\n",
            "100/100 [==============================] - 24s 238ms/step - loss: 0.6591 - acc: 0.6125 - val_loss: 0.6386 - val_acc: 0.6256\n",
            "Epoch 4/10\n",
            "100/100 [==============================] - 24s 240ms/step - loss: 0.6459 - acc: 0.6392 - val_loss: 0.6672 - val_acc: 0.5825\n",
            "Epoch 5/10\n",
            "100/100 [==============================] - 23s 229ms/step - loss: 0.6389 - acc: 0.6410 - val_loss: 0.6177 - val_acc: 0.6440\n",
            "Epoch 6/10\n",
            "100/100 [==============================] - 26s 256ms/step - loss: 0.6169 - acc: 0.6632 - val_loss: 0.5804 - val_acc: 0.6952\n",
            "Epoch 7/10\n",
            "100/100 [==============================] - 24s 239ms/step - loss: 0.6055 - acc: 0.6702 - val_loss: 0.5719 - val_acc: 0.6929\n",
            "Epoch 8/10\n",
            "100/100 [==============================] - 24s 240ms/step - loss: 0.5855 - acc: 0.6909 - val_loss: 0.5634 - val_acc: 0.7120\n",
            "Epoch 9/10\n",
            "100/100 [==============================] - 24s 240ms/step - loss: 0.5767 - acc: 0.6919 - val_loss: 0.5261 - val_acc: 0.7332\n",
            "Epoch 10/10\n",
            "100/100 [==============================] - 23s 233ms/step - loss: 0.5814 - acc: 0.6838 - val_loss: 0.5525 - val_acc: 0.6967\n"
          ],
          "name": "stdout"
        }
      ]
    },
    {
      "cell_type": "markdown",
      "metadata": {
        "id": "5YpQgTKhFis_",
        "colab_type": "text"
      },
      "source": [
        "##Training loss/accuracyとValidation loss/accuracyの推移\n",
        "過学習の判定などの議論"
      ]
    },
    {
      "cell_type": "code",
      "metadata": {
        "id": "lWaK0M80Eb5P",
        "colab_type": "code",
        "outputId": "2363f173-1fdb-4091-f446-5de53398cc28",
        "colab": {
          "base_uri": "https://localhost:8080/",
          "height": 513
        }
      },
      "source": [
        "acc = history.history[\"acc\"]\n",
        "val_acc = history.history[\"val_acc\"]\n",
        "loss = history.history[\"loss\"]\n",
        "val_loss = history.history[\"val_loss\"]\n",
        "\n",
        "epochs = range(1,len(acc) + 1)\n",
        "\n",
        "plt.plot(epochs, acc,\"bo\",label=\"Training Acc\")\n",
        "plt.plot(epochs, val_acc,\"b\",label=\"Validation Acc\")\n",
        "plt.legend()\n",
        "\n",
        "plt.figure()\n",
        "\n",
        "plt.plot(epochs,loss,\"bo\",label=\"Training Loss\")\n",
        "plt.plot(epochs,val_loss,\"b\",label=\"Validation Loss\")\n",
        "plt.legend()\n",
        "\n",
        "plt.show()"
      ],
      "execution_count": 0,
      "outputs": [
        {
          "output_type": "display_data",
          "data": {
            "image/png": "[encoded data removed]",
            "text/plain": [
              "<Figure size 432x288 with 1 Axes>"
            ]
          },
          "metadata": {
            "tags": []
          }
        },
        {
          "output_type": "display_data",
          "data": {
            "image/png": "[encoded data removed]",
            "text/plain": [
              "<Figure size 432x288 with 1 Axes>"
            ]
          },
          "metadata": {
            "tags": []
          }
        }
      ]
    },
    {
      "cell_type": "markdown",
      "metadata": {
        "id": "qrzgS3TvFsyY",
        "colab_type": "text"
      },
      "source": [
        "## TestDataの解析\n",
        "Testdataセットをまとめて解析，結果のCSV出力\n",
        "何か１枚画像を与えたときの結果出力（TODO)\n",
        "要するにまだ作りきっていません．"
      ]
    },
    {
      "cell_type": "markdown",
      "metadata": {
        "id": "6njCovBm3hNa",
        "colab_type": "text"
      },
      "source": [
        "##MobileNetによるimagenet転移学習型解析\n",
        "とりあえずソースコードはできてますが説明をつけていない．"
      ]
    },
    {
      "cell_type": "code",
      "metadata": {
        "id": "pbkj53ybko21",
        "colab_type": "code",
        "colab": {}
      },
      "source": [
        "from keras.applications import MobileNetV2\n",
        "from keras.applications import MobileNet\n",
        "from keras.callbacks import ModelCheckpoint"
      ],
      "execution_count": 0,
      "outputs": []
    },
    {
      "cell_type": "code",
      "metadata": {
        "id": "O3CdYL5d62IW",
        "colab_type": "code",
        "outputId": "6d5f76dd-2007-420c-fd15-c5b22fdb08a3",
        "colab": {
          "base_uri": "https://localhost:8080/",
          "height": 51
        }
      },
      "source": [
        "Mmodel = MobileNet(\n",
        "    input_shape=(224, 224, 3),include_top=False, \n",
        "    alpha=1.0, depth_multiplier=1)"
      ],
      "execution_count": 0,
      "outputs": [
        {
          "output_type": "stream",
          "text": [
            "Downloading data from https://github.com/fchollet/deep-learning-models/releases/download/v0.6/mobilenet_1_0_224_tf_no_top.h5\n",
            "17227776/17225924 [==============================] - 0s 0us/step\n"
          ],
          "name": "stdout"
        }
      ]
    },
    {
      "cell_type": "code",
      "metadata": {
        "id": "HpBr1QupESKE",
        "colab_type": "code",
        "colab": {}
      },
      "source": [
        "nb_classes=2\n",
        "top_model = Sequential()\n",
        "top_model.add(Flatten(input_shape=Mmodel.output_shape[1:]))\n",
        "top_model.add(Dense(nb_classes, activation='softmax'))"
      ],
      "execution_count": 0,
      "outputs": []
    },
    {
      "cell_type": "code",
      "metadata": {
        "id": "h6wZOxb_ndu_",
        "colab_type": "code",
        "outputId": "b352c692-1486-49a3-bd10-2bcd5311e4ab",
        "colab": {
          "base_uri": "https://localhost:8080/",
          "height": 51
        }
      },
      "source": [
        "modelR = Model(input=Mmodel.input, output=top_model(Mmodel.output))\n",
        "cp = ModelCheckpoint(\"weights.hdf5\", monitor=\"val_loss\", verbose=1,\n",
        "                     save_best_only=True, save_weights_only=True)\n",
        "modelR.compile(loss='categorical_crossentropy',#'binary_crossentropy',\n",
        "              optimizer=optimizers.SGD(lr=1e-3, momentum=0.9),\n",
        "              metrics=['accuracy'])"
      ],
      "execution_count": 0,
      "outputs": [
        {
          "output_type": "stream",
          "text": [
            "/usr/local/lib/python3.6/dist-packages/ipykernel_launcher.py:1: UserWarning: Update your `Model` call to the Keras 2 API: `Model(inputs=Tensor(\"in..., outputs=Tensor(\"se...)`\n",
            "  \"\"\"Entry point for launching an IPython kernel.\n"
          ],
          "name": "stderr"
        }
      ]
    },
    {
      "cell_type": "code",
      "metadata": {
        "id": "o6dUT8XoEtN7",
        "colab_type": "code",
        "outputId": "d502cbf7-7bc9-4974-ece9-18562e77b436",
        "colab": {
          "base_uri": "https://localhost:8080/",
          "height": 51
        }
      },
      "source": [
        "train_datagen = ImageDataGenerator(rescale=1./255,\n",
        "                                    rotation_range=40,\n",
        "                                    width_shift_range=0.2,\n",
        "                                    height_shift_range=0.2,\n",
        "                                    shear_range=0.2,\n",
        "                                    zoom_range=0.2,\n",
        "                                    horizontal_flip=True,\n",
        "                                    fill_mode=\"nearest\")\n",
        "\n",
        "validation_datagen = ImageDataGenerator(rescale=1./255)\n",
        "\n",
        "train_generator = train_datagen.flow_from_directory(\n",
        "    train_dir,\n",
        "    target_size=(224,224),\n",
        "    batch_size=32,\n",
        "    class_mode=\"categorical\"\n",
        ")\n",
        "\n",
        "validation_generator = validation_datagen.flow_from_directory(\n",
        "    validation_dir,\n",
        "    target_size=(224,224),\n",
        "    batch_size=32,\n",
        "    class_mode=\"categorical\"\n",
        ")\n",
        "\n",
        "\n"
      ],
      "execution_count": 0,
      "outputs": [
        {
          "output_type": "stream",
          "text": [
            "Found 2002 images belonging to 2 classes.\n",
            "Found 1000 images belonging to 2 classes.\n"
          ],
          "name": "stdout"
        }
      ]
    },
    {
      "cell_type": "code",
      "metadata": {
        "id": "CWOtzaBrFK-7",
        "colab_type": "code",
        "outputId": "04c394f5-0954-4059-d4b6-29704a1c8a3d",
        "colab": {
          "base_uri": "https://localhost:8080/",
          "height": 1000
        }
      },
      "source": [
        "history = modelR.fit_generator(\n",
        "    train_generator,\n",
        "    steps_per_epoch=100,\n",
        "    nb_epoch=15,\n",
        "    validation_data=validation_generator,\n",
        "    validation_steps=50, callbacks=[cp])"
      ],
      "execution_count": 0,
      "outputs": [
        {
          "output_type": "stream",
          "text": [
            "/usr/local/lib/python3.6/dist-packages/ipykernel_launcher.py:6: UserWarning: The semantics of the Keras 2 argument `steps_per_epoch` is not the same as the Keras 1 argument `samples_per_epoch`. `steps_per_epoch` is the number of batches to draw from the generator at each epoch. Basically steps_per_epoch = samples_per_epoch/batch_size. Similarly `nb_val_samples`->`validation_steps` and `val_samples`->`steps` arguments have changed. Update your method calls accordingly.\n",
            "  \n",
            "/usr/local/lib/python3.6/dist-packages/ipykernel_launcher.py:6: UserWarning: Update your `fit_generator` call to the Keras 2 API: `fit_generator(<keras_pre..., steps_per_epoch=100, validation_data=<keras_pre..., validation_steps=50, callbacks=[<keras.ca..., epochs=15)`\n",
            "  \n"
          ],
          "name": "stderr"
        },
        {
          "output_type": "stream",
          "text": [
            "Epoch 1/15\n",
            "100/100 [==============================] - 61s 608ms/step - loss: 3.9381 - acc: 0.7485 - val_loss: 4.1125 - val_acc: 0.7411\n",
            "\n",
            "Epoch 00001: val_loss improved from inf to 4.11246, saving model to weights.hdf5\n",
            "Epoch 2/15\n",
            "100/100 [==============================] - 52s 524ms/step - loss: 3.4461 - acc: 0.7776 - val_loss: 2.9883 - val_acc: 0.8125\n",
            "\n",
            "Epoch 00002: val_loss improved from 4.11246 to 2.98833, saving model to weights.hdf5\n",
            "Epoch 3/15\n",
            "100/100 [==============================] - 53s 532ms/step - loss: 4.3233 - acc: 0.7227 - val_loss: 6.1162 - val_acc: 0.6161\n",
            "\n",
            "Epoch 00003: val_loss did not improve from 2.98833\n",
            "Epoch 4/15\n",
            "100/100 [==============================] - 54s 538ms/step - loss: 4.6150 - acc: 0.7052 - val_loss: 4.4130 - val_acc: 0.7088\n",
            "\n",
            "Epoch 00004: val_loss did not improve from 2.98833\n",
            "Epoch 5/15\n",
            "100/100 [==============================] - 52s 519ms/step - loss: 5.0859 - acc: 0.6742 - val_loss: 5.6793 - val_acc: 0.6383\n",
            "\n",
            "Epoch 00005: val_loss did not improve from 2.98833\n",
            "Epoch 6/15\n",
            "100/100 [==============================] - 56s 560ms/step - loss: 4.6855 - acc: 0.6998 - val_loss: 5.0154 - val_acc: 0.6830\n",
            "\n",
            "Epoch 00006: val_loss did not improve from 2.98833\n",
            "Epoch 7/15\n",
            "100/100 [==============================] - 53s 529ms/step - loss: 4.6653 - acc: 0.7018 - val_loss: 4.6083 - val_acc: 0.7037\n",
            "\n",
            "Epoch 00007: val_loss did not improve from 2.98833\n",
            "Epoch 8/15\n",
            "100/100 [==============================] - 54s 543ms/step - loss: 4.8277 - acc: 0.6918 - val_loss: 6.1170 - val_acc: 0.6160\n",
            "\n",
            "Epoch 00008: val_loss did not improve from 2.98833\n",
            "Epoch 9/15\n",
            "100/100 [==============================] - 53s 529ms/step - loss: 4.6471 - acc: 0.7037 - val_loss: 3.5977 - val_acc: 0.7661\n",
            "\n",
            "Epoch 00009: val_loss did not improve from 2.98833\n",
            "Epoch 10/15\n",
            "100/100 [==============================] - 53s 532ms/step - loss: 5.0895 - acc: 0.6747 - val_loss: 4.0824 - val_acc: 0.7329\n",
            "\n",
            "Epoch 00010: val_loss did not improve from 2.98833\n",
            "Epoch 11/15\n",
            "100/100 [==============================] - 54s 542ms/step - loss: 4.2001 - acc: 0.7305 - val_loss: 4.8212 - val_acc: 0.6965\n",
            "\n",
            "Epoch 00011: val_loss did not improve from 2.98833\n",
            "Epoch 12/15\n",
            "100/100 [==============================] - 53s 530ms/step - loss: 4.4758 - acc: 0.7155 - val_loss: 4.5754 - val_acc: 0.7126\n",
            "\n",
            "Epoch 00012: val_loss did not improve from 2.98833\n",
            "Epoch 13/15\n",
            "100/100 [==============================] - 54s 538ms/step - loss: 4.6298 - acc: 0.7031 - val_loss: 4.7234 - val_acc: 0.7023\n",
            "\n",
            "Epoch 00013: val_loss did not improve from 2.98833\n",
            "Epoch 14/15\n",
            "100/100 [==============================] - 53s 529ms/step - loss: 4.7521 - acc: 0.6963 - val_loss: 6.4206 - val_acc: 0.5914\n",
            "\n",
            "Epoch 00014: val_loss did not improve from 2.98833\n",
            "Epoch 15/15\n",
            "100/100 [==============================] - 54s 537ms/step - loss: 5.0195 - acc: 0.6807 - val_loss: 4.8528 - val_acc: 0.6939\n",
            "\n",
            "Epoch 00015: val_loss did not improve from 2.98833\n"
          ],
          "name": "stdout"
        }
      ]
    },
    {
      "cell_type": "code",
      "metadata": {
        "id": "1BKGSF3pFfGJ",
        "colab_type": "code",
        "colab": {}
      },
      "source": [
        "modelR.load_weights('weights.hdf5')\n"
      ],
      "execution_count": 0,
      "outputs": []
    },
    {
      "cell_type": "code",
      "metadata": {
        "id": "ODhfChoSw56m",
        "colab_type": "code",
        "outputId": "45895da7-1268-443c-c245-a1406363f439",
        "colab": {
          "base_uri": "https://localhost:8080/",
          "height": 34
        }
      },
      "source": [
        "total = 0.\n",
        "ok_count = 0.\n",
        "label_list=[]\n",
        "answer_list=[]\n",
        "\n",
        "for dir in os.listdir(test_dir):\n",
        "\n",
        "    dir1 = test_dir + dir \n",
        "    label = 0\n",
        "\n",
        "    if dir1 == test_cats_dir:\n",
        "        label = 0\n",
        "    elif dir1 == test_dogs_dir:\n",
        "        label = 1\n",
        "\n",
        "    for file in os.listdir(dir1):\n",
        "        label_list.append(label)\n",
        "        filepath = dir1 + \"/\" + file\n",
        "        image = np.array(Image.open(filepath).resize((224, 224)))\n",
        "        #print(filepath)\n",
        "        result = modelR.predict(np.array([image / 255.]))\n",
        "        true_class = np.argmax(result[0],0)\n",
        "        answer_list.append(true_class)\n",
        "        #print(\"label:\", label, \"result:\", true_class)\n",
        "\n",
        "        total += 1.\n",
        "\n",
        "        if label == true_class:\n",
        "            ok_count += 1.\n",
        "        #print(ok_count / total * 100)\n",
        "\n",
        "print(\"seikai: \", ok_count / total * 100, \"%\")\n",
        "\n"
      ],
      "execution_count": 0,
      "outputs": [
        {
          "output_type": "stream",
          "text": [
            "seikai:  79.4 %\n"
          ],
          "name": "stdout"
        }
      ]
    },
    {
      "cell_type": "code",
      "metadata": {
        "id": "-VuJsHe_xcFL",
        "colab_type": "code",
        "outputId": "4accc8a3-b18f-4b91-e840-b20b0bb0d626",
        "colab": {
          "base_uri": "https://localhost:8080/",
          "height": 68
        }
      },
      "source": [
        "\n",
        "# 正解率の推移をプロット\n",
        "plt.plot(hist.history['acc'])\n",
        "plt.plot(hist.history['val_acc'])\n",
        "plt.title('Accuracy')\n",
        "plt.legend(['train','test'], loc='upper left')\n",
        "plt.show()\n",
        "\n",
        "# ロスの推移をプロット\n",
        "plt.plot(hist.history['loss'])\n",
        "plt.plot(hist.history['val_loss'])\n",
        "plt.title('Loss')\n",
        "plt.legend(['train','test'], loc='upper left')\n",
        "plt.show()\n",
        "\n",
        "modelR.summary()"
      ],
      "execution_count": 0,
      "outputs": [
        {
          "output_type": "stream",
          "text": [
            "1\n",
            "2\n",
            "[1, 2]\n"
          ],
          "name": "stdout"
        }
      ]
    },
    {
      "cell_type": "code",
      "metadata": {
        "id": "iULwl2WXxfAQ",
        "colab_type": "code",
        "outputId": "1a0c92f9-e41a-41fc-ec2b-c05a8d8ec304",
        "colab": {
          "base_uri": "https://localhost:8080/",
          "height": 51
        }
      },
      "source": [
        "label_np = np.array(label_list).reshape(1000,1)\n",
        "answer_np = np.array(answer_list).reshape(1000,1)\n",
        "print(label_np.shape)\n",
        "total_list =np.concatenate([label_np, answer_np],1)\n",
        "print(total_list.shape)\n",
        "np.savetxt('np_savetxt.txt', total_list)"
      ],
      "execution_count": 0,
      "outputs": [
        {
          "output_type": "stream",
          "text": [
            "(1000, 1)\n",
            "(1000, 2)\n"
          ],
          "name": "stdout"
        }
      ]
    },
    {
      "cell_type": "code",
      "metadata": {
        "id": "gByXkgZ11EVQ",
        "colab_type": "code",
        "outputId": "0a20e70a-4c95-47f5-fb80-7c7ad7a9bd71",
        "colab": {
          "base_uri": "https://localhost:8080/",
          "height": 51
        }
      },
      "source": [
        "from sklearn.metrics import confusion_matrix\n",
        "cm = confusion_matrix(label_list, answer_list)\n",
        "print(cm)"
      ],
      "execution_count": 0,
      "outputs": [
        {
          "output_type": "stream",
          "text": [
            "[[400 100]\n",
            " [106 394]]\n"
          ],
          "name": "stdout"
        }
      ]
    },
    {
      "cell_type": "code",
      "metadata": {
        "id": "wvrgEn9-7003",
        "colab_type": "code",
        "colab": {}
      },
      "source": [
        ""
      ],
      "execution_count": 0,
      "outputs": []
    }
  ]
}